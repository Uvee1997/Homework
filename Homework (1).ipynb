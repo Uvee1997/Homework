{
 "cells": [
  {
   "cell_type": "code",
   "execution_count": 11,
   "id": "691e1536",
   "metadata": {},
   "outputs": [],
   "source": [
    "s = \"This is my first code\"             [Question. 1]\n",
    "\n",
    "def test():\n",
    "    \"\"\"It count total length of your str withount using inbulid function\"\"\"\n",
    "    count = 0\n",
    "    for i in s:\n",
    "        count = count + 1\n",
    "    print(count)    "
   ]
  },
  {
   "cell_type": "code",
   "execution_count": 12,
   "id": "258dd054",
   "metadata": {},
   "outputs": [
    {
     "name": "stdout",
     "output_type": "stream",
     "text": [
      "21\n"
     ]
    }
   ],
   "source": [
    "test() "
   ]
  },
  {
   "cell_type": "code",
   "execution_count": 4,
   "id": "daf61c7f",
   "metadata": {},
   "outputs": [],
   "source": [
    "l = [1,2,3,4,5,\"uv\",1997]         [Question. 2]"
   ]
  },
  {
   "cell_type": "code",
   "execution_count": 5,
   "id": "2574bd9e",
   "metadata": {},
   "outputs": [
    {
     "data": {
      "text/plain": [
       "[1, 2, 3, 4, 5, 'uv', 1997]"
      ]
     },
     "execution_count": 5,
     "metadata": {},
     "output_type": "execute_result"
    }
   ],
   "source": [
    "l"
   ]
  },
  {
   "cell_type": "code",
   "execution_count": 9,
   "id": "6189487b",
   "metadata": {},
   "outputs": [],
   "source": [
    "def test1():\n",
    "    \"\"\"It gives index of your element which are present in list\"\"\"\n",
    "    for i in range(len(l)):\n",
    "        print(\"index\",i,l[i])"
   ]
  },
  {
   "cell_type": "code",
   "execution_count": 10,
   "id": "f2ee53ac",
   "metadata": {},
   "outputs": [
    {
     "name": "stdout",
     "output_type": "stream",
     "text": [
      "index 0 1\n",
      "index 1 2\n",
      "index 2 3\n",
      "index 3 4\n",
      "index 4 5\n",
      "index 5 uv\n",
      "index 6 1997\n"
     ]
    }
   ],
   "source": [
    "test1()"
   ]
  },
  {
   "cell_type": "code",
   "execution_count": 13,
   "id": "b0483ee9",
   "metadata": {},
   "outputs": [],
   "source": [
    "d = {\"key1\":\"uv\", \"key2\":12356 , \"key3\":24 , \"key4\":85 }        [question.3]"
   ]
  },
  {
   "cell_type": "code",
   "execution_count": 22,
   "id": "ceb4e8d8",
   "metadata": {},
   "outputs": [],
   "source": [
    "def test2():\n",
    "    \"\"\"It gives list of all dict values\"\"\"\n",
    "    for i in d:\n",
    "        return(d.values())"
   ]
  },
  {
   "cell_type": "code",
   "execution_count": 23,
   "id": "49a6ddfa",
   "metadata": {},
   "outputs": [
    {
     "data": {
      "text/plain": [
       "dict_values(['uv', 12356, 24, 85])"
      ]
     },
     "execution_count": 23,
     "metadata": {},
     "output_type": "execute_result"
    }
   ],
   "source": [
    "test2()"
   ]
  },
  {
   "cell_type": "code",
   "execution_count": 27,
   "id": "45d870c5",
   "metadata": {},
   "outputs": [],
   "source": [
    "d_1 = { \"ineuron\":{                           [case 2 of question. 3]   \n",
    "                    \"a\":14,\n",
    "                    \"b\":12,\n",
    "                    \"c\":9,\n",
    "                  },\n",
    "        \n",
    "        \"course\":{\n",
    "                     \"d\":28,\n",
    "                     \"e\":24,\n",
    "                     \"f\":18 \n",
    "                  }\n",
    "      }\n"
   ]
  },
  {
   "cell_type": "code",
   "execution_count": 7,
   "id": "a50f9b16",
   "metadata": {},
   "outputs": [],
   "source": [
    "def test3():\n",
    "    \"\"\"It shows all dict values\"\"\"\n",
    "    for i in d_1:\n",
    "        return(d_1.values())\n",
    "    "
   ]
  },
  {
   "cell_type": "code",
   "execution_count": 35,
   "id": "14bcf96f",
   "metadata": {},
   "outputs": [
    {
     "data": {
      "text/plain": [
       "dict_values([{'a': 14, 'b': 12, 'c': 9}, {'d': 28, 'e': 24, 'f': 18}])"
      ]
     },
     "execution_count": 35,
     "metadata": {},
     "output_type": "execute_result"
    }
   ],
   "source": [
    "test3()"
   ]
  },
  {
   "cell_type": "code",
   "execution_count": 44,
   "id": "e049380d",
   "metadata": {},
   "outputs": [
    {
     "name": "stdout",
     "output_type": "stream",
     "text": [
      "3\n"
     ]
    }
   ],
   "source": [
    "def test_4(a):           [Question no. 4]\n",
    "    return(a+1)\n",
    "\n",
    "def test_4(c):\n",
    "    return(c+2)\n",
    "\n",
    "output = add_1(add_2(0))\n",
    "print(output)\n",
    "\n"
   ]
  },
  {
   "cell_type": "code",
   "execution_count": 3,
   "id": "9b34ae80",
   "metadata": {},
   "outputs": [],
   "source": [
    "l = [\"abc\",12,12,\"uv\",True,True,\"uv\",22.33]  [Question no. 6]"
   ]
  },
  {
   "cell_type": "code",
   "execution_count": 4,
   "id": "9dee645c",
   "metadata": {},
   "outputs": [
    {
     "data": {
      "text/plain": [
       "['abc', 12, 12, 'uv', True, True, 'uv', 22.33]"
      ]
     },
     "execution_count": 4,
     "metadata": {},
     "output_type": "execute_result"
    }
   ],
   "source": [
    "l"
   ]
  },
  {
   "cell_type": "code",
   "execution_count": 8,
   "id": "c666a4b2",
   "metadata": {},
   "outputs": [],
   "source": [
    "def test5():\n",
    "    \"\"\"In this function it gives indexes of repetative elements \"\"\"\n",
    "    for i in range(len(l)):\n",
    "        print(\"index\", i , \"for an element\",l[i])"
   ]
  },
  {
   "cell_type": "code",
   "execution_count": 6,
   "id": "1b635ccb",
   "metadata": {},
   "outputs": [
    {
     "name": "stdout",
     "output_type": "stream",
     "text": [
      "index 0 for an element abc\n",
      "index 1 for an element 12\n",
      "index 2 for an element 12\n",
      "index 3 for an element uv\n",
      "index 4 for an element True\n",
      "index 5 for an element True\n",
      "index 6 for an element uv\n",
      "index 7 for an element 22.33\n"
     ]
    }
   ],
   "source": [
    "test5()"
   ]
  },
  {
   "cell_type": "markdown",
   "id": "be3ec0cf",
   "metadata": {},
   "source": [
    " 8) Write a function which will able to show your system configration\n",
    "\n",
    "import platform\n",
    "\n",
    "my_system = platform.uname()\n",
    "\n",
    "print(f\"System: {my_system.system}\")\n",
    "print(f\"Node Name: {my_system.node}\")\n",
    "print(f\"Release: {my_system.release}\")\n",
    "print(f\"Version: {my_system.version}\")\n",
    "print(f\"Machine: {my_system.machine}\")\n",
    "print(f\"Processor: {my_system.processor}\")\n"
   ]
  },
  {
   "cell_type": "code",
   "execution_count": 25,
   "id": "8f96df68",
   "metadata": {},
   "outputs": [],
   "source": [
    "def test6():\n",
    "    \"\"\"It gives system configration\"\"\"\n",
    "    import platform\n",
    "    my_system = platform.uname()\n",
    "    \n",
    "    print(f\"System: {my_system.system}\")\n",
    "    print(f\"Node Name: {my_system.node}\")\n",
    "    print(f\"Release: {my_system.release}\")\n",
    "    print(f\"Version: {my_system.version}\")\n",
    "    print(f\"Machine: {my_system.machine}\")\n",
    "    print(f\"processor: {my_system.processor}\")"
   ]
  },
  {
   "cell_type": "code",
   "execution_count": 26,
   "id": "5d3a5e6a",
   "metadata": {
    "scrolled": true
   },
   "outputs": [
    {
     "name": "stdout",
     "output_type": "stream",
     "text": [
      "System: Windows\n",
      "Node Name: DESKTOP-B22JD0M\n",
      "Release: 10\n",
      "Version: 10.0.19043\n",
      "Machine: AMD64\n",
      "processor: Intel64 Family 6 Model 69 Stepping 1, GenuineIntel\n"
     ]
    }
   ],
   "source": [
    "test6()"
   ]
  },
  {
   "cell_type": "markdown",
   "id": "b5f7ae0c",
   "metadata": {},
   "source": [
    "9) write a function which will be able to show date & time\n",
    "-:\n",
    "import datetime\n",
    "\n",
    "datetime_object = datetime.datetime.now()\n",
    "print(datetime_object)"
   ]
  },
  {
   "cell_type": "code",
   "execution_count": 1,
   "id": "1c6a9df4",
   "metadata": {},
   "outputs": [],
   "source": [
    "def test7():\n",
    "    \"\"\"This fuction shows your current date & time\"\"\"\n",
    "    import datetime\n",
    "    \n",
    "    datetime_object = datetime.datetime.now()\n",
    "    print(datetime_object)"
   ]
  },
  {
   "cell_type": "code",
   "execution_count": 2,
   "id": "634e1c77",
   "metadata": {},
   "outputs": [
    {
     "name": "stdout",
     "output_type": "stream",
     "text": [
      "2022-01-07 16:24:38.186960\n"
     ]
    }
   ],
   "source": [
    "test7()"
   ]
  },
  {
   "cell_type": "markdown",
   "id": "586c7aa8",
   "metadata": {},
   "source": [
    "13) write function which will able to shutdown your system.\n",
    "-:\n",
    "import os\n",
    "shutdown = input(\"Do you wish to shutdown your system? (Yes/No):)\n",
    "if shutdown == \"no\":\n",
    "exit()\n",
    "else:\n",
    "os.system(\"shutdown/s/t 1\")"
   ]
  },
  {
   "cell_type": "code",
   "execution_count": 11,
   "id": "7ff6beed",
   "metadata": {},
   "outputs": [],
   "source": [
    "def test8():\n",
    "    \"\"\"This function shutdown your system on your respose\"\"\"\n",
    "    import os\n",
    "    shutdown = input(\"Do you whish to shutdown your system?\")\n",
    "    \n",
    "    if shutdown == 'no':\n",
    "        exit()\n",
    "    else:\n",
    "        os.system(\"shutdown/s/t 1\")\n",
    "        \n"
   ]
  },
  {
   "cell_type": "code",
   "execution_count": 12,
   "id": "267cb738",
   "metadata": {},
   "outputs": [
    {
     "name": "stdout",
     "output_type": "stream",
     "text": [
      "Do you whish to shutdown your system?no\n"
     ]
    }
   ],
   "source": [
    "test8()"
   ]
  },
  {
   "cell_type": "code",
   "execution_count": null,
   "id": "5959e01b",
   "metadata": {},
   "outputs": [],
   "source": []
  }
 ],
 "metadata": {
  "kernelspec": {
   "display_name": "Python 3 (ipykernel)",
   "language": "python",
   "name": "python3"
  },
  "language_info": {
   "codemirror_mode": {
    "name": "ipython",
    "version": 3
   },
   "file_extension": ".py",
   "mimetype": "text/x-python",
   "name": "python",
   "nbconvert_exporter": "python",
   "pygments_lexer": "ipython3",
   "version": "3.9.7"
  }
 },
 "nbformat": 4,
 "nbformat_minor": 5
}
